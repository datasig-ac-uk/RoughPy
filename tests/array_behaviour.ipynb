{
 "cells": [
  {
   "cell_type": "markdown",
   "id": "5ddac78d-e7a5-47af-abb0-fa5922d8fe50",
   "metadata": {},
   "source": [
    "# Strange behaviour of RoughPy"
   ]
  },
  {
   "cell_type": "code",
   "execution_count": 1,
   "id": "7ccd9663-5617-419b-8728-a80cb0c44c9f",
   "metadata": {},
   "outputs": [],
   "source": [
    "import roughpy as rp\n",
    "import numpy as np"
   ]
  },
  {
   "cell_type": "markdown",
   "id": "63d2fe59-9c31-49e9-be48-1df23cfc9ce2",
   "metadata": {},
   "source": [
    "### Using integer arrays"
   ]
  },
  {
   "cell_type": "markdown",
   "id": "bebdaecc-4c68-426b-b4e0-f79bc06e9fd8",
   "metadata": {},
   "source": [
    "There appears to be an issue when an integer array is passed in. The data  is intepreted in the 'wrong' way. If we use [[3, 7, 0], [0, 0, 1]] is treated as 3 increments on a 2D stream. If instead we use [[3., 7., 0.], [0., 0., 1.]], then this is treated as 2 increments on a 3D stream."
   ]
  },
  {
   "cell_type": "code",
   "execution_count": 2,
   "id": "40a9a0f1-1371-41c1-a408-5429a1aa4fc5",
   "metadata": {},
   "outputs": [
    {
     "name": "stdout",
     "output_type": "stream",
     "text": [
      "{ 1() 10(1) 1(2) }\n"
     ]
    }
   ],
   "source": [
    "stream = rp.LieIncrementStream.from_increments(np.array([[3, 7, 0], [0, 0, 1]]), depth=2, coeffs=rp.Rational) \n",
    "sig = stream.signature(depth=1)\n",
    "print(sig)"
   ]
  },
  {
   "cell_type": "markdown",
   "id": "0b403caf-0bf8-464b-8d62-101ff71d10d0",
   "metadata": {},
   "source": [
    "Using the width argument does not appear to make a difference"
   ]
  },
  {
   "cell_type": "code",
   "execution_count": 3,
   "id": "9dd74e4b-bad9-4692-8c7f-b2279f51df08",
   "metadata": {},
   "outputs": [
    {
     "name": "stdout",
     "output_type": "stream",
     "text": [
      "{ 1() 10(1) 1(2) }\n"
     ]
    }
   ],
   "source": [
    "stream = rp.LieIncrementStream.from_increments(np.array([[3, 7, 0], [0, 0, 1]]), width=3, depth=2, coeffs=rp.Rational) \n",
    "sig = stream.signature(depth=1)\n",
    "print(sig)"
   ]
  },
  {
   "cell_type": "markdown",
   "id": "3d71da55-ba1c-4b5c-83d9-d9645855d200",
   "metadata": {},
   "source": [
    "This means we cannot pass information on area this way, the following is still treated as a 2D stream"
   ]
  },
  {
   "cell_type": "code",
   "execution_count": 4,
   "id": "425aa07a-2548-4091-a81b-256e8f6c639d",
   "metadata": {},
   "outputs": [
    {
     "name": "stdout",
     "output_type": "stream",
     "text": [
      "{ 1() 14(1) 6(2) }\n"
     ]
    }
   ],
   "source": [
    "stream = rp.LieIncrementStream.from_increments(np.array([[3, 7, 0, 4], [0, 0, 1, 5]]), width=2, depth=2, coeffs=rp.Rational) \n",
    "sig = stream.signature(depth=1)\n",
    "print(sig)"
   ]
  },
  {
   "cell_type": "markdown",
   "id": "cacce133-5b63-4c2a-8a5f-637589bb78aa",
   "metadata": {},
   "source": [
    "This changes if we pass in a third increment, it now functions as expected"
   ]
  },
  {
   "cell_type": "code",
   "execution_count": 5,
   "id": "feb224cf-f259-4b56-9236-eef1e5be3e40",
   "metadata": {},
   "outputs": [
    {
     "name": "stdout",
     "output_type": "stream",
     "text": [
      "{ 1() 10(1) 1(3) 50(1,1) 10(1,3) 0.5(3,3) }\n"
     ]
    }
   ],
   "source": [
    "stream = rp.LieIncrementStream.from_increments(np.array([[3, 0, 0], [7, 0, 0], [0, 0, 1]]), width=3, depth=2, coeffs=rp.Rational) \n",
    "sig = stream.signature(depth=2)\n",
    "print(sig)"
   ]
  },
  {
   "cell_type": "markdown",
   "id": "d6f15072-9369-4633-97c7-8b7bb483f07b",
   "metadata": {},
   "source": [
    "Alternatively, if we pass in floats, then there is no such issue"
   ]
  },
  {
   "cell_type": "code",
   "execution_count": 6,
   "id": "29048578-e9f7-4b63-a42e-716b14a2efbc",
   "metadata": {},
   "outputs": [
    {
     "name": "stdout",
     "output_type": "stream",
     "text": [
      "{ 1() 3(1) 7(2) 1(3) }\n"
     ]
    }
   ],
   "source": [
    "stream = rp.LieIncrementStream.from_increments(np.array([[3., 7., 0.], [0., 0., 1.]]), depth=2, coeffs=rp.Rational) \n",
    "sig = stream.signature(depth=1)\n",
    "print(sig)"
   ]
  },
  {
   "cell_type": "markdown",
   "id": "dc2b6a9e-19b8-41b3-964f-a3db0d1aa826",
   "metadata": {},
   "source": [
    "### The coefficients argument"
   ]
  },
  {
   "cell_type": "markdown",
   "id": "3188dca4-95bc-45f6-930c-6787b98238b9",
   "metadata": {},
   "source": [
    "Interestingly the coefficients appear to be floats instead of rationals if we do not pass coeffs in as part of the context ctx"
   ]
  },
  {
   "cell_type": "code",
   "execution_count": 7,
   "id": "204389dc-a6bf-48dc-8a02-9ffd4427131f",
   "metadata": {},
   "outputs": [
    {
     "name": "stdout",
     "output_type": "stream",
     "text": [
      "{ 1() 10(1) 1(2) 50(1,1) 10(1,2) 0.5(2,2) }\n"
     ]
    }
   ],
   "source": [
    "word_stream = rp.LieIncrementStream.from_increments(np.array([[3, 7, 0], [0, 0, 1]]), resolution=2, width=3, depth=2, coeffs=rp.Rational) \n",
    "sig = word_stream.signature(depth=2)\n",
    "print(sig)"
   ]
  },
  {
   "cell_type": "code",
   "execution_count": 8,
   "id": "fd0d6442-fc5a-4da8-8dbc-62899e3d22f1",
   "metadata": {},
   "outputs": [
    {
     "name": "stdout",
     "output_type": "stream",
     "text": [
      "{ 1() 10(1) 1(2) 50(1,1) 10(1,2) 1/2(2,2) }\n"
     ]
    }
   ],
   "source": [
    "CTX = rp.get_context(width=3, depth=2, coeffs=rp.Rational)\n",
    "word_stream = rp.LieIncrementStream.from_increments(np.array([[3, 7, 0], [0, 0, 1]]), resolution=2, ctx=CTX)\n",
    "sig = word_stream.signature(depth=2)\n",
    "print(sig)"
   ]
  },
  {
   "cell_type": "markdown",
   "id": "54a065a0-6119-4ade-b680-b7b8230b23f7",
   "metadata": {},
   "source": [
    "### Using ctx has issues with two increments even if they are floats"
   ]
  },
  {
   "cell_type": "code",
   "execution_count": 9,
   "id": "55c569fd-e3d1-448a-a9f9-01c7ccdf7b3b",
   "metadata": {},
   "outputs": [
    {
     "name": "stdout",
     "output_type": "stream",
     "text": [
      "{ 1() 10(1) 1(2) }\n"
     ]
    }
   ],
   "source": [
    "stream = rp.LieIncrementStream.from_increments(np.array([[3., 7., 0.], [0., 0., 1.]]), depth=2, ctx=CTX) \n",
    "sig = stream.signature(depth=1)\n",
    "print(sig)"
   ]
  },
  {
   "cell_type": "markdown",
   "id": "e97fb401-247b-4968-bcef-951d1a70ee45",
   "metadata": {},
   "source": [
    "Feeding in three increments is as expected"
   ]
  },
  {
   "cell_type": "code",
   "execution_count": 10,
   "id": "831bb286-25e9-44bd-9373-faa166548484",
   "metadata": {},
   "outputs": [
    {
     "name": "stdout",
     "output_type": "stream",
     "text": [
      "{ 1() 3(1) 7(2) 1(3) }\n"
     ]
    }
   ],
   "source": [
    "stream = rp.LieIncrementStream.from_increments(np.array([[3., 0., 0.], [0., 7., 0.], [0., 0., 1.]]), depth=2, ctx=CTX) \n",
    "sig = stream.signature(depth=1)\n",
    "print(sig)"
   ]
  },
  {
   "cell_type": "markdown",
   "id": "c6b38981-2d78-4332-ba34-9863f03d4ada",
   "metadata": {},
   "source": [
    "### Using ctx with one increment, regardless of the width, appears to be treating increments incorrectly"
   ]
  },
  {
   "cell_type": "code",
   "execution_count": 11,
   "id": "a6b8d7a2-3583-4dad-b0e8-c22914d12c09",
   "metadata": {},
   "outputs": [],
   "source": [
    "test_array = np.zeros([1, 20])\n",
    "test_array[0][4] = 1"
   ]
  },
  {
   "cell_type": "code",
   "execution_count": 12,
   "id": "1335b02c-606b-419c-8381-907f52b95b7a",
   "metadata": {},
   "outputs": [
    {
     "data": {
      "text/plain": [
       "array([[0., 0., 0., 0., 1., 0., 0., 0., 0., 0., 0., 0., 0., 0., 0., 0.,\n",
       "        0., 0., 0., 0.]])"
      ]
     },
     "execution_count": 12,
     "metadata": {},
     "output_type": "execute_result"
    }
   ],
   "source": [
    "test_array"
   ]
  },
  {
   "cell_type": "code",
   "execution_count": 13,
   "id": "bc3c8f6e-74f1-4732-9298-1c5854af364e",
   "metadata": {},
   "outputs": [
    {
     "name": "stdout",
     "output_type": "stream",
     "text": [
      "{ 1() 1(1) 1/2(1,1) }\n"
     ]
    }
   ],
   "source": [
    "CTX = rp.get_context(width=20, depth=2, coeffs=rp.Rational)\n",
    "stream = rp.LieIncrementStream.from_increments(test_array, resolution=2, ctx=CTX)\n",
    "sig = stream.signature(depth=2)\n",
    "print(sig)"
   ]
  },
  {
   "cell_type": "markdown",
   "id": "d068ea62-687b-48aa-a5ef-d09a572fab12",
   "metadata": {},
   "source": [
    "The above appears to be constructing a one dimensional array instead of something of width 20. If we do not use ctx, the outcome is as expected."
   ]
  },
  {
   "cell_type": "code",
   "execution_count": 14,
   "id": "89296ac0-0123-479e-a799-556c2426aef2",
   "metadata": {},
   "outputs": [
    {
     "name": "stdout",
     "output_type": "stream",
     "text": [
      "{ 1() 1(5) 0.5(5,5) }\n"
     ]
    }
   ],
   "source": [
    "stream = rp.LieIncrementStream.from_increments(test_array, resolution=2, width=20, depth=2, coeffs=rp.Rational) \n",
    "sig = stream.signature(depth=2)\n",
    "print(sig)"
   ]
  }
 ],
 "metadata": {
  "kernelspec": {
   "display_name": "Python_llm",
   "language": "python",
   "name": "gutenberg"
  },
  "language_info": {
   "codemirror_mode": {
    "name": "ipython",
    "version": 3
   },
   "file_extension": ".py",
   "mimetype": "text/x-python",
   "name": "python",
   "nbconvert_exporter": "python",
   "pygments_lexer": "ipython3",
   "version": "3.10.12"
  }
 },
 "nbformat": 4,
 "nbformat_minor": 5
}
